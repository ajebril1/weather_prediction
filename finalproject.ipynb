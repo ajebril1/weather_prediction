{
 "cells": [
  {
   "cell_type": "markdown",
   "id": "1955eb56",
   "metadata": {},
   "source": [
    "# Introduction "
   ]
  },
  {
   "cell_type": "markdown",
   "id": "5f50f86b",
   "metadata": {},
   "source": [
    "# About the Data"
   ]
  },
  {
   "cell_type": "code",
   "execution_count": null,
   "id": "ccf39de9",
   "metadata": {},
   "outputs": [],
   "source": [
    "import pandas as pd\n",
    "import numpy as np\n",
    "import matplotlib.pyplot as plt\n",
    "import seaborn as sns"
   ]
  },
  {
   "cell_type": "code",
   "execution_count": null,
   "id": "a82a422c",
   "metadata": {},
   "outputs": [],
   "source": [
    "df = pd.read_csv(\"weather_classification_data.csv\")"
   ]
  },
  {
   "cell_type": "code",
   "execution_count": null,
   "id": "3cd1ba26",
   "metadata": {},
   "outputs": [],
   "source": [
    "df.head()"
   ]
  },
  {
   "cell_type": "code",
   "execution_count": null,
   "id": "2a529dd8",
   "metadata": {},
   "outputs": [],
   "source": [
    "df.describe()\n",
    "\n",
    "# Humidity ranges from 20% to 109%, this is a due to the dataset being synthetic and the creator\n",
    "# of the dataset not accounting for real world values. The same issue occurs with precipitation.\n",
    "# Visibility has a minimum of 0, which also doesn't occur in real world conditions. UV index in the\n",
    "# dataset ranges from 0 to 14. Real world UV range is from 1 to 11+. "
   ]
  },
  {
   "cell_type": "code",
   "execution_count": null,
   "id": "dd2ce968",
   "metadata": {},
   "outputs": [],
   "source": [
    "# plot distribution of discrete features\n",
    "\n",
    "# Overcast conditions occurred most frequently, followed by partly cloudy, clear, and then cloudy skies.\n",
    "# UV Index values are most commonly low, with frequency decreasing as the index increases.\n",
    "# Winter had the highest observation count, while the other seasons had roughly equal and lower counts.\n",
    "# Inland and mountain regions had similar and higher observation counts compared to coastal areas.\n",
    "# All four weather types (Rainy, Cloudy, Sunny, and Snowy—had equal counts) showing a balanced distribution.\n",
    "\n",
    "categorical_features = ['Cloud Cover', 'UV Index', 'Season', 'Location', 'Weather Type']\n",
    "\n",
    "for cat in categorical_features:\n",
    "    sns.countplot(data=df, x=cat)\n",
    "    plt.title(f'Count by {cat}')\n",
    "    plt.show()"
   ]
  },
  {
   "cell_type": "markdown",
   "id": "74d46653",
   "metadata": {},
   "source": [
    "# Pre-Processing"
   ]
  },
  {
   "cell_type": "code",
   "execution_count": null,
   "id": "497cbe5a",
   "metadata": {},
   "outputs": [],
   "source": [
    "# one-hot encoding\n",
    "from sklearn.preprocessing import OneHotEncoder\n",
    "\n",
    "encoder = OneHotEncoder(sparse_output=False)\n",
    "encoder.fit(df[categorical_features])\n",
    "encoded = encoder.transform(df[categorical_features])\n",
    "column_names = encoder.get_feature_names_out(categorical_features)\n",
    "encoded_df = pd.DataFrame(encoded, columns=column_names, index=df.index)\n",
    "non_categorical = df.drop(columns=categorical_features)\n",
    "\n",
    "# merge\n",
    "processed_df = pd.concat([non_categorical, encoded_df], axis=1)"
   ]
  },
  {
   "cell_type": "code",
   "execution_count": null,
   "id": "5a9c14a3",
   "metadata": {},
   "outputs": [],
   "source": [
    "processed_df.head()"
   ]
  },
  {
   "cell_type": "code",
   "execution_count": null,
   "id": "a04d6669",
   "metadata": {},
   "outputs": [],
   "source": [
    "# count nulls\n",
    "# data is synthetic so should be 0\n",
    "processed_df.isnull().sum()"
   ]
  },
  {
   "cell_type": "code",
   "execution_count": null,
   "id": "3d386256",
   "metadata": {},
   "outputs": [],
   "source": [
    "# Removing temperature outliers\n",
    "processed_df = processed_df[processed_df['Temperature'] < 56]\n",
    "\n",
    "processed_df.head()"
   ]
  },
  {
   "cell_type": "markdown",
   "id": "909cd38a",
   "metadata": {},
   "source": [
    "#  Methods "
   ]
  },
  {
   "cell_type": "markdown",
   "id": "9a2680bc",
   "metadata": {},
   "source": [
    "#  Evaluation "
   ]
  },
  {
   "cell_type": "markdown",
   "id": "2d036098",
   "metadata": {},
   "source": [
    "# Impact"
   ]
  }
 ],
 "metadata": {
  "kernelspec": {
   "display_name": ".venv",
   "language": "python",
   "name": "python3"
  },
  "language_info": {
   "codemirror_mode": {
    "name": "ipython",
    "version": 3
   },
   "file_extension": ".py",
   "mimetype": "text/x-python",
   "name": "python",
   "nbconvert_exporter": "python",
   "pygments_lexer": "ipython3",
   "version": "3.10.4"
  }
 },
 "nbformat": 4,
 "nbformat_minor": 5
}
