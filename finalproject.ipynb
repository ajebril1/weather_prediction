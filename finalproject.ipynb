{
 "cells": [
  {
   "cell_type": "markdown",
   "id": "1955eb56",
   "metadata": {},
   "source": [
    "# Introduction "
   ]
  },
  {
   "cell_type": "markdown",
   "id": "5f50f86b",
   "metadata": {},
   "source": [
    "# About the Data"
   ]
  },
  {
   "cell_type": "code",
   "execution_count": null,
   "id": "ccf39de9",
   "metadata": {},
   "outputs": [],
   "source": [
    "# !pip install pandas\n",
    "# !pip install numpy\n",
    "# !pip install matplotlib\n",
    "# !pip install seaborn\n",
    "\n",
    "import pandas as pd\n",
    "import numpy as np\n",
    "import matplotlib.pyplot as plt\n",
    "import seaborn as sns"
   ]
  },
  {
   "cell_type": "markdown",
   "id": "9eb8c36b",
   "metadata": {},
   "source": [
    "This dataset was downloaded from [Kaggle](https://www.kaggle.com/datasets/nikhil7280/weather-type-classification). It's a\n",
    "synthetic dataset which was created for students and data scientists to practice data preprocessing, feature engineering, model evaluation, and other data mining tasks. The dataset has 11 features and 13,200 samples. "
   ]
  },
  {
   "cell_type": "code",
   "execution_count": null,
   "id": "a82a422c",
   "metadata": {},
   "outputs": [],
   "source": [
    "df = pd.read_csv(\"weather_classification_data.csv\")"
   ]
  },
  {
   "cell_type": "code",
   "execution_count": null,
   "id": "3cd1ba26",
   "metadata": {},
   "outputs": [],
   "source": [
    "df.head()"
   ]
  },
  {
   "cell_type": "code",
   "execution_count": null,
   "id": "2a529dd8",
   "metadata": {},
   "outputs": [],
   "source": [
    "df.describe()\n",
    "\n",
    "# Humidity ranges from 20% to 109%, this is a due to the dataset being synthetic and the creator\n",
    "# of the dataset not accounting for real world values. The same issue occurs with precipitation.\n",
    "# Visibility has a minimum of 0, which also doesn't occur in real world conditions. UV index in the\n",
    "# dataset ranges from 0 to 14. Real world UV range is from 1 to 11+ (with 12,13,14 being extremely unlikely)."
   ]
  },
  {
   "cell_type": "code",
   "execution_count": null,
   "id": "dd2ce968",
   "metadata": {},
   "outputs": [],
   "source": [
    "# plot distribution of discrete features\n",
    "\n",
    "# Overcast conditions occurred most frequently, followed by partly cloudy, clear, and then cloudy skies.\n",
    "# UV Index values are most commonly low, with frequency decreasing as the index increases.\n",
    "# Winter had the highest observation count, while the other seasons had roughly equal and lower counts.\n",
    "# Inland and mountain regions had similar and higher observation counts compared to coastal areas.\n",
    "# All four weather types (Rainy, Cloudy, Sunny, and Snowy—had equal counts) showing a balanced distribution.\n",
    "\n",
    "categorical_features = ['Cloud Cover', 'UV Index', 'Season', 'Location']\n",
    "\n",
    "for cat in categorical_features:\n",
    "    sns.countplot(data=df, x=cat)\n",
    "    plt.title(f'Count by {cat}')\n",
    "    plt.show()"
   ]
  },
  {
   "cell_type": "markdown",
   "id": "74d46653",
   "metadata": {},
   "source": [
    "# Pre-Processing"
   ]
  },
  {
   "cell_type": "code",
   "execution_count": null,
   "id": "497cbe5a",
   "metadata": {},
   "outputs": [],
   "source": [
    "# one-hot encoding\n",
    "from sklearn.preprocessing import OneHotEncoder\n",
    "\n",
    "encoder = OneHotEncoder(sparse_output=False)\n",
    "encoder.fit(df[categorical_features])\n",
    "encoded = encoder.transform(df[categorical_features])\n",
    "column_names = encoder.get_feature_names_out(categorical_features)\n",
    "encoded_df = pd.DataFrame(encoded, columns=column_names, index=df.index)\n",
    "non_categorical = df.drop(columns=categorical_features)\n",
    "\n",
    "# merge\n",
    "processed_df = pd.concat([non_categorical, encoded_df], axis=1)"
   ]
  },
  {
   "cell_type": "markdown",
   "id": "0e9bbf1d",
   "metadata": {},
   "source": [
    "### Correcting issues with synthetic data\n",
    "![Weatherman!](weatherman.png)"
   ]
  },
  {
   "cell_type": "code",
   "execution_count": null,
   "id": "60bc51cf",
   "metadata": {},
   "outputs": [],
   "source": [
    "# remove precipitations over 100%\n",
    "\n",
    "processed_df = processed_df[processed_df[\"Precipitation (%)\"] <= 100]\n",
    "processed_df[\"Precipitation (%)\"].describe()"
   ]
  },
  {
   "cell_type": "code",
   "execution_count": null,
   "id": "5a9c14a3",
   "metadata": {},
   "outputs": [],
   "source": [
    "processed_df.head()"
   ]
  },
  {
   "cell_type": "code",
   "execution_count": null,
   "id": "a04d6669",
   "metadata": {},
   "outputs": [],
   "source": [
    "# count nulls\n",
    "# data is synthetic so should be 0\n",
    "processed_df.isnull().sum()"
   ]
  },
  {
   "cell_type": "code",
   "execution_count": null,
   "id": "16adb962",
   "metadata": {},
   "outputs": [],
   "source": [
    "# Removing temperature outliers\n",
    "processed_df = processed_df[processed_df['Temperature'] < 56]\n",
    "\n",
    "processed_df.head()"
   ]
  },
  {
   "cell_type": "code",
   "execution_count": null,
   "id": "32bf5f59",
   "metadata": {},
   "outputs": [],
   "source": [
    "# generate a basic correlation matrix to visualize relationships\n",
    "\n",
    "correlation_matrix = processed_df.drop(columns=[\"Weather Type\"]).corr()\n",
    "# Plot heatmap for better visualization\n",
    "plt.figure(figsize=(15, 9))\n",
    "sns.heatmap(correlation_matrix, annot=True, cmap=\"inferno\", fmt=\".2f\", linewidths=0.5)\n",
    "plt.show()\n",
    "\n",
    "# print 10 values with highest (absolute value) correlation\n",
    "corr_abs = correlation_matrix.abs()\n",
    "upper_triangle = corr_abs.where(np.triu(np.ones(corr_abs.shape), k=1).astype(bool))\n",
    "top10 = upper_triangle.unstack().sort_values(ascending=False).head(10)\n",
    "\n",
    "print(\"Top 10 highest (absolute) correlations:\")\n",
    "print(top10)"
   ]
  },
  {
   "cell_type": "markdown",
   "id": "11b15c07",
   "metadata": {},
   "source": [
    "The correlations make logical sense, showing the dataset isn't completely random even though it's synthetic. This indicates we may be to train a useful model."
   ]
  },
  {
   "cell_type": "markdown",
   "id": "d4e6fb24",
   "metadata": {},
   "source": [
    "## Boxplots"
   ]
  },
  {
   "cell_type": "code",
   "execution_count": null,
   "id": "29a9a9f6",
   "metadata": {},
   "outputs": [],
   "source": [
    "sns.boxplot(data=df[['Temperature', 'Humidity', 'Wind Speed']])\n",
    "plt.show()"
   ]
  },
  {
   "cell_type": "markdown",
   "id": "5e31e7ab",
   "metadata": {},
   "source": [
    "The box plots compares Temperature, Humidity, and Wind Speed. Temperatures has a large range\n",
    "(~4 to 32) and many outliers above 70C. Humidity is symmetric with few to no outliers after\n",
    "processing. Wind speed has a low median value, but a high number of outliers"
   ]
  },
  {
   "cell_type": "markdown",
   "id": "909cd38a",
   "metadata": {},
   "source": [
    "#  Methods "
   ]
  },
  {
   "cell_type": "code",
   "execution_count": null,
   "id": "c1164452",
   "metadata": {},
   "outputs": [],
   "source": [
    "from sklearn.model_selection import train_test_split\n",
    "from sklearn.preprocessing import LabelEncoder\n",
    "\n",
    "label_encoder = LabelEncoder()\n",
    "\n",
    "X = processed_df.drop(columns=[\"Weather Type\"])\n",
    "y = label_encoder.fit_transform(processed_df[\"Weather Type\"])\n",
    "\n",
    "X_train, X_test, y_train, y_test = train_test_split(X, y, test_size=0.2, random_state=42)"
   ]
  },
  {
   "cell_type": "markdown",
   "id": "0051c7f2",
   "metadata": {},
   "source": [
    "#### KNN"
   ]
  },
  {
   "cell_type": "code",
   "execution_count": null,
   "id": "c63594a2",
   "metadata": {},
   "outputs": [],
   "source": [
    "from sklearn.neighbors import KNeighborsClassifier\n",
    "from sklearn.metrics import accuracy_score\n",
    "\n",
    "knn = KNeighborsClassifier(n_neighbors=3)\n",
    "knn.fit(X_train, y_train)\n",
    "\n",
    "y_pred = knn.predict(X_test)\n",
    "\n",
    "print(f\"Test Accuracy: {accuracy_score(y_test, y_pred):.4f}\")"
   ]
  },
  {
   "cell_type": "code",
   "execution_count": null,
   "id": "f67b101d",
   "metadata": {},
   "outputs": [],
   "source": [
    "# generate a graph for k values\n",
    "\n",
    "accuracy = []\n",
    "for i in range(1,30):\n",
    "    knn = KNeighborsClassifier(n_neighbors=i)\n",
    "    knn.fit(X_train, y_train)\n",
    "    y_pred = knn.predict(X_test)\n",
    "    accuracy.append(accuracy_score(y_test, y_pred))\n",
    "\n",
    "plt.plot(accuracy, marker='o')\n",
    "plt.xlabel('K Value')\n",
    "plt.ylabel('Accuracy')\n",
    "plt.title('Accuracy for K Values')\n",
    "plt.ylim(0.85, .9)\n",
    "plt.grid(True)\n",
    "plt.show()"
   ]
  },
  {
   "cell_type": "code",
   "execution_count": null,
   "id": "9b73a34b",
   "metadata": {},
   "outputs": [],
   "source": [
    "from sklearn.metrics import ConfusionMatrixDisplay\n",
    "\n",
    "label_encoder_decoder = [\"Cloudy\", \"Rainy\", \"Snowy\", \"Sunny\"]\n",
    "ConfusionMatrixDisplay.from_predictions(y_test, y_pred, display_labels=label_encoder_decoder, cmap='Blues')\n",
    "plt.title('kNN Confusion Matrix')\n",
    "plt.show()"
   ]
  },
  {
   "cell_type": "markdown",
   "id": "55b2c744",
   "metadata": {},
   "source": [
    "### Decision Tree"
   ]
  },
  {
   "cell_type": "code",
   "execution_count": null,
   "id": "179b0255",
   "metadata": {},
   "outputs": [],
   "source": [
    "from sklearn.tree import DecisionTreeClassifier, plot_tree\n",
    "\n",
    "dt = DecisionTreeClassifier(criterion='gini', max_depth=3)\n",
    "\n",
    "dt.fit(X_train, y_train)\n",
    "\n",
    "print(f\"Accuracy Score: {dt.score(X_test, y_test)}\")"
   ]
  },
  {
   "cell_type": "markdown",
   "id": "7ce4a752",
   "metadata": {},
   "source": [
    "Now we plot the decision tree we just made, confirming it has a max depth of 3, and seeing what features are being used to do the classification."
   ]
  },
  {
   "cell_type": "code",
   "execution_count": null,
   "id": "82090066",
   "metadata": {},
   "outputs": [],
   "source": [
    "fig, axes = plt.subplots(nrows = 1,ncols = 1, figsize = (12,12), dpi=300)\n",
    "plot_tree(dt, max_depth = 3, feature_names = X.columns, filled=True)\n",
    "plt.show()"
   ]
  },
  {
   "cell_type": "code",
   "execution_count": null,
   "id": "9bc73e75",
   "metadata": {},
   "outputs": [],
   "source": [
    "from sklearn.metrics import confusion_matrix\n",
    "\n",
    "y_pred = dt.predict(X_test)\n",
    "\n",
    "cf = confusion_matrix(y_test, y_pred)\n",
    "\n",
    "sns.heatmap(cf, annot=True, square=True)\n",
    "plt.show()"
   ]
  },
  {
   "cell_type": "markdown",
   "id": "9a2680bc",
   "metadata": {},
   "source": [
    "#  Evaluation "
   ]
  },
  {
   "cell_type": "markdown",
   "id": "2d036098",
   "metadata": {},
   "source": [
    "# Impact"
   ]
  },
  {
   "cell_type": "markdown",
   "id": "799c64af",
   "metadata": {},
   "source": [
    "Many different impacts can come from our project, these impacts can be both positive and negative. One of those negative impacts is that the dataset we are using is a synthetic dataset, which means that the data mimics real-world data. This is viewed as a negative impact because the data can be seen as limited or not an accurate representation of real weather data, so the project results could be seen as unreliable. Not only this, but having unreliable models that can predict weather shrink public trust in meteorologists, so having accurate models is very important. A positive impact that can come from this project is the potential improvements to weather forecasting through better prediction outcomes, given that we supplement some synthetic data with real world data, which can benefit both space exploration and even the lives of the average person. Others include the potential to build more advanced models for more advanced weather patterns, and saving lives with accurate predictions."
   ]
  },
  {
   "cell_type": "markdown",
   "id": "59412c97",
   "metadata": {},
   "source": [
    "### Github Repository/Code/Data\n",
    "https://github.com/ajebril1/weather_prediction"
   ]
  }
 ],
 "metadata": {
  "kernelspec": {
   "display_name": "ITCS-3162",
   "language": "python",
   "name": "python3"
  },
  "language_info": {
   "codemirror_mode": {
    "name": "ipython",
    "version": 3
   },
   "file_extension": ".py",
   "mimetype": "text/x-python",
   "name": "python",
   "nbconvert_exporter": "python",
   "pygments_lexer": "ipython3",
   "version": "3.11.11"
  }
 },
 "nbformat": 4,
 "nbformat_minor": 5
}
